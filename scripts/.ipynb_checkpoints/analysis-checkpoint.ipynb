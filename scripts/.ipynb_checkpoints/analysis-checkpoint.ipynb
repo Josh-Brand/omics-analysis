{
 "cells": [
  {
   "cell_type": "code",
   "execution_count": 1,
   "id": "4982173b-5cd6-4bd0-be2a-b95906b4313f",
   "metadata": {},
   "outputs": [
    {
     "name": "stderr",
     "output_type": "stream",
     "text": [
      "/Applications/anaconda3/envs/compbio/lib/python3.12/site-packages/dask/dataframe/__init__.py:31: FutureWarning: The legacy Dask DataFrame implementation is deprecated and will be removed in a future version. Set the configuration option `dataframe.query-planning` to `True` or None to enable the new Dask Dataframe implementation and silence this warning.\n",
      "  warnings.warn(\n",
      "/Applications/anaconda3/envs/compbio/lib/python3.12/site-packages/numba/core/decorators.py:246: RuntimeWarning: nopython is set for njit and is ignored\n",
      "  warnings.warn('nopython is set for njit and is ignored', RuntimeWarning)\n",
      "/Applications/anaconda3/envs/compbio/lib/python3.12/site-packages/anndata/utils.py:429: FutureWarning: Importing read_text from `anndata` is deprecated. Import anndata.io.read_text instead.\n",
      "  warnings.warn(msg, FutureWarning)\n"
     ]
    }
   ],
   "source": [
    "import os\n",
    "import scanpy as sc\n",
    "import squidpy as sq\n",
    "import pandas as pd\n",
    "import matplotlib.pyplot as plt\n"
   ]
  },
  {
   "cell_type": "code",
   "execution_count": 11,
   "id": "e3bd6442-f19c-4d35-926b-4c6126033a87",
   "metadata": {},
   "outputs": [
    {
     "name": "stdout",
     "output_type": "stream",
     "text": [
      "/Users/jabrand2/Desktop/personal_projects/comp_bio/sc_rnaseq\n"
     ]
    }
   ],
   "source": [
    "os.path.dirname(os.getcwd())"
   ]
  },
  {
   "cell_type": "code",
   "execution_count": 12,
   "id": "c685208e-2f8e-4e82-9673-a2bb87a5e876",
   "metadata": {},
   "outputs": [
    {
     "name": "stdout",
     "output_type": "stream",
     "text": [
      "/Users/jabrand2/Desktop/personal_projects/comp_bio/sc_rnaseq\n"
     ]
    }
   ],
   "source": [
    "base_dir = os.path.dirname(os.getcwd())\n",
    "print(base_dir)\n",
    "\n",
    "# Define the data directory relative to the base directory\n",
    "read_in = os.path.join(base_dir, \"data\", \"SC_DATA\", \"modified\")"
   ]
  },
  {
   "cell_type": "code",
   "execution_count": 13,
   "id": "ab50e978-de8b-4521-aa62-499da269ba17",
   "metadata": {},
   "outputs": [
    {
     "data": {
      "text/plain": [
       "['single_cell_and_spatial.h5ad']"
      ]
     },
     "execution_count": 13,
     "metadata": {},
     "output_type": "execute_result"
    }
   ],
   "source": [
    "os.listdir(read_in)"
   ]
  },
  {
   "cell_type": "code",
   "execution_count": 20,
   "id": "4e79df4e-61a4-45f1-85dc-a137b2b2d603",
   "metadata": {},
   "outputs": [],
   "source": [
    "adata_combined = sc.read_h5ad(os.path.join(read_in, \"sc_and_spatial.h5ad\"))"
   ]
  },
  {
   "cell_type": "code",
   "execution_count": 21,
   "id": "8da1a2c0-692d-46e9-bd4f-820f08879742",
   "metadata": {},
   "outputs": [
    {
     "data": {
      "text/plain": [
       "AnnData object with n_obs × n_vars = 40349 × 36601\n",
       "    obs: 'in_tissue', 'array_row', 'array_col'\n",
       "    obsm: 'spatial'"
      ]
     },
     "execution_count": 21,
     "metadata": {},
     "output_type": "execute_result"
    }
   ],
   "source": []
  },
  {
   "cell_type": "code",
   "execution_count": null,
   "id": "bdb94e51-afa8-4308-9a23-f0b150ac02e7",
   "metadata": {},
   "outputs": [],
   "source": []
  }
 ],
 "metadata": {
  "kernelspec": {
   "display_name": "Python 3 (ipykernel)",
   "language": "python",
   "name": "python3"
  },
  "language_info": {
   "codemirror_mode": {
    "name": "ipython",
    "version": 3
   },
   "file_extension": ".py",
   "mimetype": "text/x-python",
   "name": "python",
   "nbconvert_exporter": "python",
   "pygments_lexer": "ipython3",
   "version": "3.12.8"
  }
 },
 "nbformat": 4,
 "nbformat_minor": 5
}
